{
 "cells": [
  {
   "cell_type": "markdown",
   "metadata": {},
   "source": [
    "## 1. Environment setup"
   ]
  },
  {
   "cell_type": "code",
   "execution_count": 1,
   "metadata": {},
   "outputs": [
    {
     "name": "stderr",
     "output_type": "stream",
     "text": [
      "Using backend: pytorch\n"
     ]
    }
   ],
   "source": [
    "import os\n",
    "import dgl\n",
    "import torch\n",
    "import numpy as np\n",
    "import pandas as pd\n",
    "import networkx as nx\n",
    "import torch.nn as nn\n",
    "from tqdm.notebook import tqdm\n",
    "import torch.nn.functional as F\n",
    "from dgl.data import DGLDataset\n",
    "#torch.cuda.set_device(0)  "
   ]
  },
  {
   "cell_type": "markdown",
   "metadata": {},
   "source": [
    "## 2. Setting up the Dataset"
   ]
  },
  {
   "cell_type": "code",
   "execution_count": 2,
   "metadata": {},
   "outputs": [
    {
     "name": "stdout",
     "output_type": "stream",
     "text": [
      "[Graph(num_nodes=722, num_edges=38344,\n",
      "      ndata_schemes={'PSE': Scheme(shape=(964,), dtype=torch.float32)}\n",
      "      edata_schemes={}), Graph(num_nodes=4515, num_edges=799034,\n",
      "      ndata_schemes={'PSE': Scheme(shape=(964,), dtype=torch.float32)}\n",
      "      edata_schemes={})]\n"
     ]
    }
   ],
   "source": [
    "class PolypharmacyDataset(DGLDataset):\n",
    "    def __init__(self):\n",
    "        super().__init__(name='polypharmacy')\n",
    "\n",
    "    def process(self):\n",
    "        edges = pd.read_csv('../data/GNN_edges-toy.csv')\n",
    "        properties = pd.read_csv('../data/GNN_properties-toy.csv')\n",
    "        drug_comb = pd.read_csv('../data/GNN-TWOSIDE-train-PSE-964-toy.csv', sep=',') # or 3347\n",
    "        features = pd.read_csv('../data/GNN-GSE_full_pkd_norm.csv', index_col = 'ProteinID', sep=',')\n",
    "        \n",
    "        self.graphs = []\n",
    "        self.labels = []\n",
    "        self.comb_graphs = []\n",
    "        self.comb_labels = []\n",
    "        \n",
    "        num_features = len(features.columns) # no. of PSEs\n",
    "        self.dim_nfeats = num_features\n",
    "        self.gclasses = num_features\n",
    "\n",
    "        # Create a graph for each graph ID from the edges table.\n",
    "        # First process the properties table into two dictionaries with graph IDs as keys.\n",
    "        # The label and number of nodes are values.\n",
    "        label_dict = {}\n",
    "        num_nodes_dict = {}\n",
    "        \n",
    "        for _, row in properties.iterrows():\n",
    "            label_dict[row['graph_id']] = row['label']\n",
    "            num_nodes_dict[row['graph_id']] = row['num_nodes']\n",
    "\n",
    "        # For the edges, first group the table by graph IDs.\n",
    "        edges_group = edges.groupby('graph_id')\n",
    "        \n",
    "        #Node features or PSEs dictionary\n",
    "        feature_dic = {i+1:torch.tensor(features.loc[i+1,]) for i in range(len(features))}\n",
    "        \n",
    "        # For each graph ID...\n",
    "        for graph_id in edges_group.groups:\n",
    "            # Find the edges as well as the number of nodes and its label.\n",
    "            edges_of_id = edges_group.get_group(graph_id)\n",
    "            src = edges_of_id['src'].to_numpy()\n",
    "            dst = edges_of_id['dst'].to_numpy()\n",
    "            num_nodes = num_nodes_dict[graph_id]\n",
    "            label = label_dict[graph_id]\n",
    "            \n",
    "            # Create a graph and add it to the list of graphs and labels.\n",
    "            g = dgl.graph((src, dst), num_nodes=num_nodes)\n",
    "            \n",
    "            # Need to convert proteinsIDs for feature assigning\n",
    "            prot_ids = edges_of_id['src_prot'].unique().tolist()\n",
    "            for prot in edges_of_id['dst_prot'].unique().tolist():\n",
    "                if prot not in prot_ids:\n",
    "                    prot_ids.append(prot)\n",
    "            convert_prot = {prot_ids.index(prot):prot for prot in prot_ids}\n",
    "            \n",
    "            #Adding features of each node\n",
    "            g.ndata['PSE'] = torch.zeros(g.num_nodes(), num_features)\n",
    "            for node in g.nodes().tolist():\n",
    "                g.ndata['PSE'][node] = feature_dic[convert_prot[node]]\n",
    "                \n",
    "            self.graphs.append(g)\n",
    "            self.labels.append(label)\n",
    "        \n",
    "        # conver drugid to their respective graph id\n",
    "        #drug2graph = {properties['label'][i]:i for i in range(len(properties))} \n",
    "        drug2graph = {self.labels[i]:i for i in range(len(self.labels))} \n",
    "\n",
    "        for i in range(len(drug_comb)):\n",
    "            row = drug_comb.loc[i]\n",
    "            g1 = self.graphs[drug2graph[row[0]]] # Drug1 graph\n",
    "            g2 = self.graphs[drug2graph[row[1]]] # Drug2 graph  \n",
    "            self.comb_graphs.append([g1,g2])\n",
    "            self.comb_labels.append(torch.tensor(row[2:])) # PSE values\n",
    "\n",
    "            \n",
    "        # Convert the label list to tensor for saving.\n",
    "        #self.comb_labels = torch.LongTensor(self.comb_labels)\n",
    "\n",
    "    def __getitem__(self, i):\n",
    "       # return self.comb_graphs[i], self.comb_labels[i]\n",
    "        return self.comb_graphs[i], self.comb_labels[i]\n",
    "\n",
    "    def __len__(self):\n",
    "        return len(self.comb_graphs)\n",
    "    \n",
    "\n",
    "dataset = PolypharmacyDataset()\n",
    "graph, label = dataset[0]\n",
    "print(graph)\n"
   ]
  },
  {
   "cell_type": "markdown",
   "metadata": {},
   "source": [
    "## 3. Data loading and batch"
   ]
  },
  {
   "cell_type": "code",
   "execution_count": 123,
   "metadata": {},
   "outputs": [],
   "source": [
    "from dgl.dataloading import GraphDataLoader\n",
    "from torch.utils.data.sampler import SubsetRandomSampler\n",
    "\n",
    "num_examples = len(dataset)\n",
    "num_train = int(num_examples * 0.8)\n",
    "\n",
    "train_sampler = SubsetRandomSampler(torch.arange(num_train))\n",
    "test_sampler = SubsetRandomSampler(torch.arange(num_train, num_examples))\n",
    "\n",
    "\n",
    "train_dataloader = GraphDataLoader(\n",
    "    dataset, sampler=train_sampler, batch_size=3, drop_last=False)\n",
    "test_dataloader = GraphDataLoader(\n",
    "    dataset, sampler=test_sampler, batch_size=3, drop_last=False)"
   ]
  },
  {
   "cell_type": "code",
   "execution_count": 124,
   "metadata": {},
   "outputs": [
    {
     "data": {
      "text/plain": [
       "18"
      ]
     },
     "execution_count": 124,
     "metadata": {},
     "output_type": "execute_result"
    }
   ],
   "source": [
    "len(dataset)"
   ]
  },
  {
   "cell_type": "code",
   "execution_count": 125,
   "metadata": {},
   "outputs": [
    {
     "name": "stdout",
     "output_type": "stream",
     "text": [
      "Graph(num_nodes=8973, num_edges=2343928,\n",
      "      ndata_schemes={'PSE': Scheme(shape=(964,), dtype=torch.float32)}\n",
      "      edata_schemes={})\n"
     ]
    }
   ],
   "source": [
    "it = iter(train_dataloader)\n",
    "batch = next(it)\n",
    "print(batch[0][0])"
   ]
  },
  {
   "cell_type": "code",
   "execution_count": 126,
   "metadata": {
    "scrolled": true
   },
   "outputs": [
    {
     "name": "stdout",
     "output_type": "stream",
     "text": [
      "Number of nodes for each graph1 element in the batch: tensor([ 694,  694, 7585])\n",
      "Number of nodes for each graph2 element in the batch: tensor([2756, 5656,  853])\n",
      "Number of edges for each graph1 element in the batch: tensor([  36906,   36906, 2270116])\n",
      "Number of edges for each graph2 element in the batch: tensor([ 292614, 1269352,   44876])\n",
      "The original graphs1 in the minibatch:\n",
      "[Graph(num_nodes=694, num_edges=36906,\n",
      "      ndata_schemes={'PSE': Scheme(shape=(964,), dtype=torch.float32)}\n",
      "      edata_schemes={}), Graph(num_nodes=694, num_edges=36906,\n",
      "      ndata_schemes={'PSE': Scheme(shape=(964,), dtype=torch.float32)}\n",
      "      edata_schemes={}), Graph(num_nodes=7585, num_edges=2270116,\n",
      "      ndata_schemes={'PSE': Scheme(shape=(964,), dtype=torch.float32)}\n",
      "      edata_schemes={})]\n"
     ]
    }
   ],
   "source": [
    "batched_graph, labels = batch\n",
    "print('Number of nodes for each graph1 element in the batch:', batched_graph[0].batch_num_nodes())\n",
    "print('Number of nodes for each graph2 element in the batch:', batched_graph[1].batch_num_nodes())\n",
    "print('Number of edges for each graph1 element in the batch:', batched_graph[0].batch_num_edges())\n",
    "print('Number of edges for each graph2 element in the batch:', batched_graph[1].batch_num_edges())\n",
    "\n",
    "# Recover the original graph elements from the minibatch\n",
    "graphs = dgl.unbatch(batched_graph[0])\n",
    "print('The original graphs1 in the minibatch:')\n",
    "print(graphs)"
   ]
  },
  {
   "cell_type": "markdown",
   "metadata": {},
   "source": [
    "## 4. GNN Model: Siamese GCN"
   ]
  },
  {
   "cell_type": "code",
   "execution_count": 130,
   "metadata": {},
   "outputs": [],
   "source": [
    "from dgl.nn import GraphConv\n",
    "\n",
    "class GCN(nn.Module):\n",
    "    def __init__(self, in_feats, h_feats, num_classes):\n",
    "        super(GCN, self).__init__()\n",
    "        self.conv1 = GraphConv(in_feats, h_feats)\n",
    "        self.conv2 = GraphConv(h_feats,  num_classes)\n",
    "        \n",
    "    def forward(self, g, in_feat):\n",
    "        h = self.conv1(g, in_feat)\n",
    "        h = F.relu(h)\n",
    "        h = self.conv2(g, h)\n",
    "        g.ndata['h'] = h\n",
    "        out = F.relu(dgl.mean_nodes(g, 'h'))\n",
    "        return out\n"
   ]
  },
  {
   "cell_type": "markdown",
   "metadata": {},
   "source": [
    "## 5. Training"
   ]
  },
  {
   "cell_type": "code",
   "execution_count": 129,
   "metadata": {},
   "outputs": [
    {
     "name": "stdout",
     "output_type": "stream",
     "text": [
      "epoch 0 | loss = 0.7125621438026428\n",
      "epoch 0 | loss = 0.7406646609306335\n",
      "epoch 0 | loss = 0.7002500891685486\n",
      "epoch 0 | loss = 0.6930876970291138\n",
      "epoch 0 | loss = 0.693204402923584\n",
      "epoch 1 | loss = 0.693008542060852\n",
      "epoch 1 | loss = 0.6929177641868591\n",
      "epoch 1 | loss = 0.6932021379470825\n",
      "epoch 1 | loss = 0.6930321455001831\n",
      "epoch 1 | loss = 0.6931098699569702\n",
      "epoch 2 | loss = 0.6930577158927917\n",
      "epoch 2 | loss = 0.692969024181366\n",
      "epoch 2 | loss = 0.6927382349967957\n",
      "epoch 2 | loss = 0.6930434703826904\n",
      "epoch 2 | loss = 0.6930602788925171\n",
      "epoch 3 | loss = 0.6926549673080444\n",
      "epoch 3 | loss = 0.6930493116378784\n",
      "epoch 3 | loss = 0.6928863525390625\n",
      "epoch 3 | loss = 0.6928797960281372\n",
      "epoch 3 | loss = 0.69314044713974\n",
      "epoch 4 | loss = 0.6926441192626953\n",
      "epoch 4 | loss = 0.6928839087486267\n",
      "epoch 4 | loss = 0.6930856108665466\n",
      "epoch 4 | loss = 0.6927308440208435\n",
      "epoch 4 | loss = 0.692812979221344\n",
      "Accuracy: 94.22545 | Precision: 8.24176 | Similarity: 13.54651\n",
      "Accuracy: 94.16494 | Precision: 10.35857 | Similarity: 30.96909\n",
      "Wall time: 20.3 s\n"
     ]
    }
   ],
   "source": [
    "%%time\n",
    "# Create the model with given dimensions\n",
    "model = GCN(dataset.dim_nfeats, 50, dataset.gclasses)\n",
    "optimizer = torch.optim.Adam(model.parameters(), lr=0.01)\n",
    "\n",
    "for epoch in range(5):\n",
    "    for batched_graph, labels in train_dataloader:\n",
    "        g1 = batched_graph[0]\n",
    "        g2 = batched_graph[1]\n",
    "        pred1 = model(g1, g1.ndata['PSE'].float())\n",
    "        pred2 = model(g2, g2.ndata['PSE'].float())\n",
    "        pred = F.relu((pred1+pred2)/2)\n",
    "        loss = F.binary_cross_entropy(F.sigmoid(pred).float(),labels.float())\n",
    "        #loss = 1-F.cosine_similarity(pred,labels).mean()\n",
    "        #loss = F.triplet_margin_loss(labels,pred1,pred2)\n",
    "        optimizer.zero_grad()\n",
    "        loss.backward()\n",
    "        optimizer.step()\n",
    "        print ('epoch %s | loss = %s' % (epoch,loss.tolist()))\n",
    "        \n",
    "    \n",
    "num_correct = 0\n",
    "num_correct_0 = 0\n",
    "num_incorrect = 0\n",
    "num_tests = 0\n",
    "for batched_graph, labels in test_dataloader:\n",
    "    pred1 = model(batched_graph[0], batched_graph[0].ndata['PSE'].float())\n",
    "    pred2 = model(batched_graph[1], batched_graph[1].ndata['PSE'].float())\n",
    "    pred = F.relu((pred1+pred2)/2)\n",
    "    for i in range(len(labels)):\n",
    "        for j in range(len(labels[i])):\n",
    "            num_tests += 1\n",
    "            if labels[i][j] == 1 and pred[i][j] != 0:\n",
    "                num_correct += 1\n",
    "            elif labels[i][j] == 1 and pred[i][j] == 0:\n",
    "                num_incorrect += 1\n",
    "            elif labels[i][j] == 0 and pred[i][j] != 0:\n",
    "                num_incorrect += 1\n",
    "            elif labels[i][j] == 0 and pred[i][j] == 0:\n",
    "                num_correct_0 += 1\n",
    "                pass\n",
    "\n",
    "    acc = ((num_correct+num_correct_0)*100)/(num_tests)\n",
    "    prec = ((num_correct)*100)/(num_incorrect+num_correct)\n",
    "    sim = ((F.cosine_similarity(pred.float(),labels.float())).mean().tolist())*100\n",
    "    print('Accuracy: %s | Precision: %s | Similarity: %s' %(round(acc,5),round(prec,5),round(sim,5)))"
   ]
  },
  {
   "cell_type": "code",
   "execution_count": 98,
   "metadata": {},
   "outputs": [
    {
     "data": {
      "text/plain": [
       "0.693041980266571"
      ]
     },
     "execution_count": 98,
     "metadata": {},
     "output_type": "execute_result"
    }
   ],
   "source": [
    "loss.tolist()"
   ]
  },
  {
   "cell_type": "code",
   "execution_count": null,
   "metadata": {},
   "outputs": [],
   "source": [
    "loss"
   ]
  },
  {
   "cell_type": "code",
   "execution_count": 47,
   "metadata": {},
   "outputs": [
    {
     "name": "stdout",
     "output_type": "stream",
     "text": [
      "tensor(0.1765, grad_fn=<MeanBackward0>) tensor(0.1765, grad_fn=<MeanBackward0>)\n"
     ]
    }
   ],
   "source": [
    "x1 = pred1[0]\n",
    "x2 = pred2[0]\n",
    "y1 = F.relu((x1*x2)**0.5)\n",
    "y2 = F.relu((x1+x2)*0.5)\n",
    "print(y1.mean(), y2.mean())"
   ]
  },
  {
   "cell_type": "code",
   "execution_count": 49,
   "metadata": {},
   "outputs": [
    {
     "data": {
      "text/plain": [
       "tensor(0.9331, grad_fn=<MeanBackward0>)"
      ]
     },
     "execution_count": 49,
     "metadata": {},
     "output_type": "execute_result"
    }
   ],
   "source": [
    "F.triplet_margin_loss(labels,pred1,pred2)"
   ]
  },
  {
   "cell_type": "code",
   "execution_count": 9,
   "metadata": {},
   "outputs": [
    {
     "name": "stdout",
     "output_type": "stream",
     "text": [
      "0 : 1\n",
      "1 : 1\n",
      "2 : 1\n",
      "4 : 1\n",
      "6 : 1\n",
      "8 : 1\n",
      "9 : 1\n",
      "10 : 1\n",
      "11 : 1\n",
      "13 : 1\n",
      "14 : 1\n",
      "15 : 1\n",
      "17 : 1\n",
      "18 : 1\n",
      "19 : 1\n",
      "23 : 1\n",
      "24 : 1\n",
      "26 : 1\n",
      "27 : 1\n",
      "29 : 1\n",
      "31 : 1\n",
      "34 : 1\n",
      "35 : 1\n",
      "37 : 1\n",
      "38 : 1\n",
      "40 : 1\n",
      "41 : 1\n",
      "43 : 1\n",
      "44 : 1\n",
      "45 : 1\n",
      "48 : 1\n",
      "49 : 1\n",
      "53 : 1\n",
      "54 : 1\n",
      "55 : 1\n",
      "56 : 1\n",
      "57 : 1\n",
      "63 : 1\n",
      "71 : 1\n",
      "73 : 1\n",
      "77 : 1\n",
      "79 : 1\n",
      "80 : 1\n",
      "85 : 1\n",
      "87 : 1\n",
      "90 : 1\n",
      "102 : 1\n",
      "106 : 1\n",
      "110 : 1\n",
      "114 : 1\n",
      "116 : 1\n",
      "125 : 1\n",
      "135 : 1\n",
      "138 : 1\n",
      "140 : 1\n",
      "149 : 1\n",
      "154 : 1\n",
      "166 : 1\n",
      "167 : 1\n",
      "169 : 1\n",
      "174 : 1\n",
      "184 : 1\n",
      "186 : 1\n",
      "190 : 1\n",
      "197 : 1\n",
      "200 : 1\n",
      "201 : 1\n",
      "206 : 1\n",
      "212 : 1\n",
      "215 : 1\n",
      "225 : 1\n",
      "233 : 1\n",
      "240 : 1\n",
      "243 : 1\n",
      "247 : 1\n",
      "250 : 1\n",
      "262 : 1\n",
      "276 : 1\n",
      "278 : 1\n",
      "280 : 1\n",
      "295 : 1\n",
      "305 : 1\n",
      "314 : 1\n",
      "321 : 1\n",
      "340 : 1\n",
      "343 : 1\n",
      "345 : 1\n",
      "354 : 1\n",
      "357 : 1\n",
      "438 : 1\n",
      "456 : 1\n",
      "468 : 1\n",
      "475 : 1\n",
      "496 : 1\n",
      "499 : 1\n",
      "514 : 1\n",
      "516 : 1\n",
      "518 : 1\n",
      "547 : 1\n",
      "558 : 1\n",
      "576 : 1\n",
      "671 : 1\n",
      "731 : 1\n",
      "737 : 1\n",
      "765 : 1\n",
      "766 : 1\n",
      "838 : 1\n"
     ]
    }
   ],
   "source": [
    "pos = []\n",
    "for i, label in enumerate(labels[0].tolist()):\n",
    "    if label != 0:\n",
    "        pos.append(i)\n",
    "        print(i,':',label)"
   ]
  },
  {
   "cell_type": "code",
   "execution_count": 10,
   "metadata": {},
   "outputs": [
    {
     "name": "stdout",
     "output_type": "stream",
     "text": [
      "6 : 0.38044387102127075\n",
      "8 : 0.587792158126831\n",
      "16 : 0.12098941206932068\n",
      "35 : 0.0996902585029602\n",
      "37 : 0.1469675749540329\n",
      "40 : 0.25196316838264465\n",
      "43 : 0.3600175380706787\n",
      "45 : 0.22222143411636353\n",
      "46 : 0.3237467110157013\n",
      "48 : 0.37982177734375\n",
      "49 : 0.48251789808273315\n",
      "50 : 0.4170515537261963\n",
      "52 : 0.4106405973434448\n",
      "61 : 0.39962413907051086\n",
      "62 : 0.13347773253917694\n",
      "71 : 0.14868420362472534\n",
      "73 : 0.4536293148994446\n",
      "75 : 0.13180279731750488\n",
      "78 : 0.3722996413707733\n",
      "85 : 0.13340209424495697\n",
      "88 : 0.06968531757593155\n",
      "90 : 0.1370120346546173\n",
      "94 : 0.11294928938150406\n",
      "97 : 0.13625746965408325\n",
      "100 : 0.3915035128593445\n",
      "109 : 0.5002908706665039\n",
      "113 : 0.27593111991882324\n",
      "115 : 0.11313841491937637\n",
      "117 : 0.28581711649894714\n",
      "118 : 0.6448791027069092\n",
      "119 : 0.5943384170532227\n",
      "126 : 0.1319393366575241\n",
      "128 : 0.5394355058670044\n",
      "130 : 0.3075450360774994\n",
      "150 : 0.02749987319111824\n",
      "157 : 0.42085522413253784\n",
      "159 : 0.47558271884918213\n",
      "162 : 0.22198130190372467\n",
      "164 : 0.4906436800956726\n",
      "171 : 0.004296622704714537\n",
      "178 : 0.4345545172691345\n",
      "180 : 0.35237419605255127\n",
      "182 : 0.14057809114456177\n",
      "186 : 0.27822476625442505\n",
      "190 : 0.29023849964141846\n",
      "213 : 0.7175735831260681\n",
      "216 : 0.09732685983181\n",
      "223 : 0.02437436208128929\n",
      "233 : 0.771613359451294\n",
      "235 : 0.08373560011386871\n",
      "245 : 0.022710010409355164\n",
      "252 : 0.3996083736419678\n",
      "261 : 0.3786582946777344\n",
      "271 : 0.10750220715999603\n",
      "280 : 0.13667017221450806\n",
      "292 : 0.2587375044822693\n",
      "299 : 0.40940842032432556\n",
      "305 : 0.30966299772262573\n",
      "311 : 0.06834027171134949\n",
      "313 : 0.21130046248435974\n",
      "321 : 0.1268148422241211\n",
      "335 : 0.19983266294002533\n",
      "367 : 0.3939785361289978\n",
      "371 : 0.17806558310985565\n",
      "383 : 0.5570264458656311\n",
      "386 : 0.06603308767080307\n",
      "397 : 0.056697435677051544\n",
      "404 : 0.34809446334838867\n",
      "409 : 0.04034272953867912\n",
      "416 : 0.04093027114868164\n",
      "431 : 0.11061514914035797\n",
      "433 : 0.08637367188930511\n",
      "449 : 0.4744299054145813\n",
      "459 : 0.18842008709907532\n",
      "461 : 0.05245136842131615\n",
      "483 : 0.09322190284729004\n",
      "485 : 0.34772026538848877\n",
      "492 : 0.2172422558069229\n",
      "494 : 0.3685823380947113\n",
      "507 : 0.046791091561317444\n",
      "510 : 0.08161225914955139\n",
      "514 : 0.31272411346435547\n",
      "524 : 0.04554904252290726\n",
      "531 : 0.46046048402786255\n",
      "539 : 0.28257888555526733\n",
      "541 : 0.12058384716510773\n",
      "555 : 0.13098293542861938\n",
      "566 : 0.007424335926771164\n",
      "574 : 0.16077452898025513\n",
      "594 : 0.1019790917634964\n",
      "611 : 0.2898843288421631\n",
      "621 : 0.22116690874099731\n",
      "628 : 0.4432309865951538\n",
      "648 : 0.2836757004261017\n",
      "650 : 0.027045685797929764\n",
      "660 : 0.24664682149887085\n",
      "665 : 0.14682307839393616\n",
      "667 : 0.45637863874435425\n",
      "701 : 0.06168455258011818\n",
      "706 : 0.442080557346344\n",
      "712 : 0.3285655677318573\n",
      "722 : 0.31304067373275757\n",
      "751 : 0.3018472194671631\n",
      "765 : 0.2655618190765381\n",
      "777 : 0.322907954454422\n",
      "779 : 0.06912361830472946\n",
      "788 : 0.006274903658777475\n",
      "793 : 0.3785369396209717\n",
      "822 : 0.4238363206386566\n",
      "829 : 0.2332780957221985\n",
      "846 : 0.35910236835479736\n",
      "855 : 0.12970703840255737\n",
      "867 : 0.36637863516807556\n",
      "869 : 0.1169070154428482\n",
      "884 : 0.3692995607852936\n",
      "891 : 0.22090429067611694\n",
      "897 : 0.12554457783699036\n",
      "921 : 0.0978776067495346\n",
      "928 : 0.09319930523633957\n"
     ]
    }
   ],
   "source": [
    "pos2 = []\n",
    "for i, predic in enumerate(pred[0].tolist()):\n",
    "    if predic != 0:\n",
    "        pos2.append(i)\n",
    "        print(i,':',predic)"
   ]
  },
  {
   "cell_type": "code",
   "execution_count": 11,
   "metadata": {},
   "outputs": [
    {
     "name": "stdout",
     "output_type": "stream",
     "text": [
      "107 119\n"
     ]
    }
   ],
   "source": [
    "print(len(pos), len(pos2))"
   ]
  },
  {
   "cell_type": "code",
   "execution_count": null,
   "metadata": {},
   "outputs": [],
   "source": [
    "num_correct = 0\n",
    "num_tests = 0\n",
    "for batched_graph, labels in test_dataloader:\n",
    "    pred1 = model(batched_graph[0], batched_graph[0].ndata['PSE'].float())\n",
    "    pred2 = model(batched_graph[1], batched_graph[1].ndata['PSE'].float())\n",
    "    pred = F.relu((pred1+pred2)/2)\n",
    "    diff = labels - pred\n",
    "    #acc = diff.mean()\n",
    "    #num_correct += (pred.argmax(1) == labels).sum().item()\n",
    "    #num_tests += len(labels)\n",
    "    diff = diff.tolist()\n",
    "    y = 0\n",
    "    for x in diff:\n",
    "        y += x.count(0)\n",
    "    acc = (y*100)/(4*964)\n",
    "    print('Test accuracy:', acc)"
   ]
  },
  {
   "cell_type": "markdown",
   "metadata": {},
   "source": [
    "### ==================== Testing ===================="
   ]
  },
  {
   "cell_type": "code",
   "execution_count": 123,
   "metadata": {},
   "outputs": [],
   "source": [
    "edges = pd.read_csv('../data/GNN_edges-toy.csv')\n",
    "properties = pd.read_csv('../data/GNN_properties-toy.csv')\n",
    "features = pd.read_csv('../data/GNN-GSE_full_pkd_norm.csv', index_col = 'ProteinID', sep=',')"
   ]
  },
  {
   "cell_type": "code",
   "execution_count": 130,
   "metadata": {},
   "outputs": [
    {
     "data": {
      "text/plain": [
       "19555"
      ]
     },
     "execution_count": 130,
     "metadata": {},
     "output_type": "execute_result"
    }
   ],
   "source": [
    "feature_dic = {i+1:torch.tensor(features.loc[i+1,]) for i in range(len(features))}\n",
    "len(feature_dic)"
   ]
  },
  {
   "cell_type": "code",
   "execution_count": 111,
   "metadata": {},
   "outputs": [
    {
     "data": {
      "text/html": [
       "<div>\n",
       "<style scoped>\n",
       "    .dataframe tbody tr th:only-of-type {\n",
       "        vertical-align: middle;\n",
       "    }\n",
       "\n",
       "    .dataframe tbody tr th {\n",
       "        vertical-align: top;\n",
       "    }\n",
       "\n",
       "    .dataframe thead th {\n",
       "        text-align: right;\n",
       "    }\n",
       "</style>\n",
       "<table border=\"1\" class=\"dataframe\">\n",
       "  <thead>\n",
       "    <tr style=\"text-align: right;\">\n",
       "      <th></th>\n",
       "      <th>graph_id</th>\n",
       "      <th>label</th>\n",
       "      <th>num_nodes</th>\n",
       "    </tr>\n",
       "  </thead>\n",
       "  <tbody>\n",
       "    <tr>\n",
       "      <th>0</th>\n",
       "      <td>1</td>\n",
       "      <td>85</td>\n",
       "      <td>722</td>\n",
       "    </tr>\n",
       "    <tr>\n",
       "      <th>1</th>\n",
       "      <td>2</td>\n",
       "      <td>119</td>\n",
       "      <td>719</td>\n",
       "    </tr>\n",
       "    <tr>\n",
       "      <th>2</th>\n",
       "      <td>3</td>\n",
       "      <td>137</td>\n",
       "      <td>935</td>\n",
       "    </tr>\n",
       "    <tr>\n",
       "      <th>3</th>\n",
       "      <td>4</td>\n",
       "      <td>143</td>\n",
       "      <td>5656</td>\n",
       "    </tr>\n",
       "    <tr>\n",
       "      <th>4</th>\n",
       "      <td>5</td>\n",
       "      <td>146</td>\n",
       "      <td>5376</td>\n",
       "    </tr>\n",
       "    <tr>\n",
       "      <th>5</th>\n",
       "      <td>6</td>\n",
       "      <td>158</td>\n",
       "      <td>2600</td>\n",
       "    </tr>\n",
       "    <tr>\n",
       "      <th>6</th>\n",
       "      <td>7</td>\n",
       "      <td>159</td>\n",
       "      <td>10469</td>\n",
       "    </tr>\n",
       "    <tr>\n",
       "      <th>7</th>\n",
       "      <td>8</td>\n",
       "      <td>160</td>\n",
       "      <td>6921</td>\n",
       "    </tr>\n",
       "    <tr>\n",
       "      <th>8</th>\n",
       "      <td>9</td>\n",
       "      <td>175</td>\n",
       "      <td>1158</td>\n",
       "    </tr>\n",
       "    <tr>\n",
       "      <th>9</th>\n",
       "      <td>10</td>\n",
       "      <td>187</td>\n",
       "      <td>6830</td>\n",
       "    </tr>\n",
       "  </tbody>\n",
       "</table>\n",
       "</div>"
      ],
      "text/plain": [
       "   graph_id  label  num_nodes\n",
       "0         1     85        722\n",
       "1         2    119        719\n",
       "2         3    137        935\n",
       "3         4    143       5656\n",
       "4         5    146       5376\n",
       "5         6    158       2600\n",
       "6         7    159      10469\n",
       "7         8    160       6921\n",
       "8         9    175       1158\n",
       "9        10    187       6830"
      ]
     },
     "execution_count": 111,
     "metadata": {},
     "output_type": "execute_result"
    }
   ],
   "source": [
    "properties"
   ]
  },
  {
   "cell_type": "code",
   "execution_count": 124,
   "metadata": {},
   "outputs": [
    {
     "data": {
      "text/html": [
       "<div>\n",
       "<style scoped>\n",
       "    .dataframe tbody tr th:only-of-type {\n",
       "        vertical-align: middle;\n",
       "    }\n",
       "\n",
       "    .dataframe tbody tr th {\n",
       "        vertical-align: top;\n",
       "    }\n",
       "\n",
       "    .dataframe thead th {\n",
       "        text-align: right;\n",
       "    }\n",
       "</style>\n",
       "<table border=\"1\" class=\"dataframe\">\n",
       "  <thead>\n",
       "    <tr style=\"text-align: right;\">\n",
       "      <th></th>\n",
       "      <th>graph_id</th>\n",
       "      <th>src</th>\n",
       "      <th>dst</th>\n",
       "      <th>src_prot</th>\n",
       "      <th>dst_prot</th>\n",
       "    </tr>\n",
       "  </thead>\n",
       "  <tbody>\n",
       "    <tr>\n",
       "      <th>76538</th>\n",
       "      <td>3</td>\n",
       "      <td>0</td>\n",
       "      <td>172</td>\n",
       "      <td>32</td>\n",
       "      <td>4621</td>\n",
       "    </tr>\n",
       "    <tr>\n",
       "      <th>76539</th>\n",
       "      <td>3</td>\n",
       "      <td>0</td>\n",
       "      <td>50</td>\n",
       "      <td>32</td>\n",
       "      <td>1027</td>\n",
       "    </tr>\n",
       "    <tr>\n",
       "      <th>76540</th>\n",
       "      <td>3</td>\n",
       "      <td>0</td>\n",
       "      <td>54</td>\n",
       "      <td>32</td>\n",
       "      <td>1129</td>\n",
       "    </tr>\n",
       "    <tr>\n",
       "      <th>76541</th>\n",
       "      <td>3</td>\n",
       "      <td>0</td>\n",
       "      <td>828</td>\n",
       "      <td>32</td>\n",
       "      <td>18028</td>\n",
       "    </tr>\n",
       "    <tr>\n",
       "      <th>76542</th>\n",
       "      <td>3</td>\n",
       "      <td>0</td>\n",
       "      <td>717</td>\n",
       "      <td>32</td>\n",
       "      <td>16363</td>\n",
       "    </tr>\n",
       "    <tr>\n",
       "      <th>...</th>\n",
       "      <td>...</td>\n",
       "      <td>...</td>\n",
       "      <td>...</td>\n",
       "      <td>...</td>\n",
       "      <td>...</td>\n",
       "    </tr>\n",
       "    <tr>\n",
       "      <th>126803</th>\n",
       "      <td>3</td>\n",
       "      <td>933</td>\n",
       "      <td>128</td>\n",
       "      <td>19514</td>\n",
       "      <td>3408</td>\n",
       "    </tr>\n",
       "    <tr>\n",
       "      <th>126804</th>\n",
       "      <td>3</td>\n",
       "      <td>933</td>\n",
       "      <td>679</td>\n",
       "      <td>19514</td>\n",
       "      <td>15709</td>\n",
       "    </tr>\n",
       "    <tr>\n",
       "      <th>126805</th>\n",
       "      <td>3</td>\n",
       "      <td>933</td>\n",
       "      <td>664</td>\n",
       "      <td>19514</td>\n",
       "      <td>15442</td>\n",
       "    </tr>\n",
       "    <tr>\n",
       "      <th>126806</th>\n",
       "      <td>3</td>\n",
       "      <td>934</td>\n",
       "      <td>420</td>\n",
       "      <td>19530</td>\n",
       "      <td>10008</td>\n",
       "    </tr>\n",
       "    <tr>\n",
       "      <th>126807</th>\n",
       "      <td>3</td>\n",
       "      <td>934</td>\n",
       "      <td>606</td>\n",
       "      <td>19530</td>\n",
       "      <td>14336</td>\n",
       "    </tr>\n",
       "  </tbody>\n",
       "</table>\n",
       "<p>50270 rows × 5 columns</p>\n",
       "</div>"
      ],
      "text/plain": [
       "        graph_id  src  dst  src_prot  dst_prot\n",
       "76538          3    0  172        32      4621\n",
       "76539          3    0   50        32      1027\n",
       "76540          3    0   54        32      1129\n",
       "76541          3    0  828        32     18028\n",
       "76542          3    0  717        32     16363\n",
       "...          ...  ...  ...       ...       ...\n",
       "126803         3  933  128     19514      3408\n",
       "126804         3  933  679     19514     15709\n",
       "126805         3  933  664     19514     15442\n",
       "126806         3  934  420     19530     10008\n",
       "126807         3  934  606     19530     14336\n",
       "\n",
       "[50270 rows x 5 columns]"
      ]
     },
     "execution_count": 124,
     "metadata": {},
     "output_type": "execute_result"
    }
   ],
   "source": [
    "graph = edges.loc[edges['graph_id']==3]\n",
    "src = graph['src'].to_numpy()\n",
    "dst = graph['dst'].to_numpy()\n",
    "graph"
   ]
  },
  {
   "cell_type": "code",
   "execution_count": 125,
   "metadata": {},
   "outputs": [
    {
     "data": {
      "text/plain": [
       "Graph(num_nodes=935, num_edges=50270,\n",
       "      ndata_schemes={}\n",
       "      edata_schemes={})"
      ]
     },
     "execution_count": 125,
     "metadata": {},
     "output_type": "execute_result"
    }
   ],
   "source": [
    "g = dgl.graph((src, dst), num_nodes=935)\n",
    "g"
   ]
  },
  {
   "cell_type": "code",
   "execution_count": 137,
   "metadata": {},
   "outputs": [
    {
     "data": {
      "text/html": [
       "<div>\n",
       "<style scoped>\n",
       "    .dataframe tbody tr th:only-of-type {\n",
       "        vertical-align: middle;\n",
       "    }\n",
       "\n",
       "    .dataframe tbody tr th {\n",
       "        vertical-align: top;\n",
       "    }\n",
       "\n",
       "    .dataframe thead th {\n",
       "        text-align: right;\n",
       "    }\n",
       "</style>\n",
       "<table border=\"1\" class=\"dataframe\">\n",
       "  <thead>\n",
       "    <tr style=\"text-align: right;\">\n",
       "      <th></th>\n",
       "      <th>graph_id</th>\n",
       "      <th>src</th>\n",
       "      <th>dst</th>\n",
       "      <th>src_prot</th>\n",
       "      <th>dst_prot</th>\n",
       "    </tr>\n",
       "  </thead>\n",
       "  <tbody>\n",
       "    <tr>\n",
       "      <th>76538</th>\n",
       "      <td>3</td>\n",
       "      <td>0</td>\n",
       "      <td>172</td>\n",
       "      <td>32</td>\n",
       "      <td>4621</td>\n",
       "    </tr>\n",
       "    <tr>\n",
       "      <th>76539</th>\n",
       "      <td>3</td>\n",
       "      <td>0</td>\n",
       "      <td>50</td>\n",
       "      <td>32</td>\n",
       "      <td>1027</td>\n",
       "    </tr>\n",
       "    <tr>\n",
       "      <th>76540</th>\n",
       "      <td>3</td>\n",
       "      <td>0</td>\n",
       "      <td>54</td>\n",
       "      <td>32</td>\n",
       "      <td>1129</td>\n",
       "    </tr>\n",
       "    <tr>\n",
       "      <th>76541</th>\n",
       "      <td>3</td>\n",
       "      <td>0</td>\n",
       "      <td>828</td>\n",
       "      <td>32</td>\n",
       "      <td>18028</td>\n",
       "    </tr>\n",
       "    <tr>\n",
       "      <th>76542</th>\n",
       "      <td>3</td>\n",
       "      <td>0</td>\n",
       "      <td>717</td>\n",
       "      <td>32</td>\n",
       "      <td>16363</td>\n",
       "    </tr>\n",
       "    <tr>\n",
       "      <th>...</th>\n",
       "      <td>...</td>\n",
       "      <td>...</td>\n",
       "      <td>...</td>\n",
       "      <td>...</td>\n",
       "      <td>...</td>\n",
       "    </tr>\n",
       "    <tr>\n",
       "      <th>126803</th>\n",
       "      <td>3</td>\n",
       "      <td>933</td>\n",
       "      <td>128</td>\n",
       "      <td>19514</td>\n",
       "      <td>3408</td>\n",
       "    </tr>\n",
       "    <tr>\n",
       "      <th>126804</th>\n",
       "      <td>3</td>\n",
       "      <td>933</td>\n",
       "      <td>679</td>\n",
       "      <td>19514</td>\n",
       "      <td>15709</td>\n",
       "    </tr>\n",
       "    <tr>\n",
       "      <th>126805</th>\n",
       "      <td>3</td>\n",
       "      <td>933</td>\n",
       "      <td>664</td>\n",
       "      <td>19514</td>\n",
       "      <td>15442</td>\n",
       "    </tr>\n",
       "    <tr>\n",
       "      <th>126806</th>\n",
       "      <td>3</td>\n",
       "      <td>934</td>\n",
       "      <td>420</td>\n",
       "      <td>19530</td>\n",
       "      <td>10008</td>\n",
       "    </tr>\n",
       "    <tr>\n",
       "      <th>126807</th>\n",
       "      <td>3</td>\n",
       "      <td>934</td>\n",
       "      <td>606</td>\n",
       "      <td>19530</td>\n",
       "      <td>14336</td>\n",
       "    </tr>\n",
       "  </tbody>\n",
       "</table>\n",
       "<p>50270 rows × 5 columns</p>\n",
       "</div>"
      ],
      "text/plain": [
       "        graph_id  src  dst  src_prot  dst_prot\n",
       "76538          3    0  172        32      4621\n",
       "76539          3    0   50        32      1027\n",
       "76540          3    0   54        32      1129\n",
       "76541          3    0  828        32     18028\n",
       "76542          3    0  717        32     16363\n",
       "...          ...  ...  ...       ...       ...\n",
       "126803         3  933  128     19514      3408\n",
       "126804         3  933  679     19514     15709\n",
       "126805         3  933  664     19514     15442\n",
       "126806         3  934  420     19530     10008\n",
       "126807         3  934  606     19530     14336\n",
       "\n",
       "[50270 rows x 5 columns]"
      ]
     },
     "execution_count": 137,
     "metadata": {},
     "output_type": "execute_result"
    }
   ],
   "source": [
    "edges_group = edges.groupby('graph_id')\n",
    "edges_of_id = edges_group.get_group(3)\n",
    "edges_of_id"
   ]
  },
  {
   "cell_type": "code",
   "execution_count": 142,
   "metadata": {},
   "outputs": [
    {
     "data": {
      "text/plain": [
       "Graph(num_nodes=935, num_edges=50270,\n",
       "      ndata_schemes={'PSE': Scheme(shape=(964,), dtype=torch.float32)}\n",
       "      edata_schemes={})"
      ]
     },
     "execution_count": 142,
     "metadata": {},
     "output_type": "execute_result"
    }
   ],
   "source": [
    "prot_ids = edges_of_id['src_prot'].unique().tolist()\n",
    "convert_prot = {prot_ids.index(prot):prot for prot in prot_ids}\n",
    "g.ndata['PSE'] = torch.zeros(g.num_nodes(), 964)\n",
    "for node in g.nodes().tolist():\n",
    "    g.ndata['PSE'][node] = feature_dic[convert_prot[node]]\n",
    "    \n",
    "g"
   ]
  },
  {
   "cell_type": "code",
   "execution_count": 150,
   "metadata": {},
   "outputs": [
    {
     "data": {
      "text/plain": [
       "Arthralgia               0.781995\n",
       "Diarrhoea                0.782882\n",
       "Headache                 0.784467\n",
       "Vomiting                 0.783447\n",
       "Dyspepsia                0.780225\n",
       "                           ...   \n",
       "Hypertensive crisis      0.773061\n",
       "Pneumonia bacterial      0.712454\n",
       "Hepatocellular injury    0.782869\n",
       "Shock haemorrhagic       0.737688\n",
       "Haemorrhagic stroke      0.785618\n",
       "Name: 3291, Length: 964, dtype: float64"
      ]
     },
     "execution_count": 150,
     "metadata": {},
     "output_type": "execute_result"
    }
   ],
   "source": [
    "features.loc[3291]"
   ]
  },
  {
   "cell_type": "code",
   "execution_count": 2,
   "metadata": {},
   "outputs": [],
   "source": [
    "g.ndata['PSE'][127]"
   ]
  },
  {
   "cell_type": "code",
   "execution_count": 3,
   "metadata": {},
   "outputs": [],
   "source": [
    "convert_prot"
   ]
  },
  {
   "cell_type": "code",
   "execution_count": null,
   "metadata": {},
   "outputs": [],
   "source": []
  },
  {
   "cell_type": "code",
   "execution_count": null,
   "metadata": {},
   "outputs": [],
   "source": [
    "from dgl.nn import GraphConv\n",
    "\n",
    "class GCN(nn.Module):\n",
    "    def __init__(self, in_feats, h_feats, num_classes):\n",
    "        super(GCN, self).__init__()\n",
    "        self.conv1 = GraphConv(in_feats, h_feats)\n",
    "        self.conv2 = GraphConv(h_feats, num_classes)\n",
    "        self.in_feats = in_feats\n",
    "        self.num_classes=num_classes\n",
    "        \n",
    "    def forward(self, g):\n",
    "        h = self.conv1(g, self.in_feats)\n",
    "        h = F.relu(h)\n",
    "        h = self.conv2(g, h)\n",
    "        g.ndata['h'] = h\n",
    "        return dgl.mean_nodes(g, 'h')\n",
    "    '''\n",
    "    def forward(self, g):\n",
    "        out1 = self.forward_one(g[0])\n",
    "        out2 = self.forward_one(g[1])\n",
    "        out = F.relu((out1+out2)/2)\n",
    "        #out = self.out(mean)\n",
    "        return out\n",
    "\n",
    "# for test\n",
    "#if __name__ == '__main__':\n",
    " #   net = GCN()\n",
    " #   print(net)\n",
    " #   print(list(net.parameters()))\n",
    "    def forward_one(self, g):\n",
    "        h = self.conv1(g, self.in_feat)\n",
    "        h = F.relu(h)\n",
    "        h = self.conv2(h, self.n_classes)\n",
    "        h = F.relu(h)\n",
    "        g.ndata['h'] = h\n",
    "        return dgl.mean_nodes(g, 'h')\n",
    "        '''"
   ]
  },
  {
   "cell_type": "code",
   "execution_count": null,
   "metadata": {},
   "outputs": [],
   "source": []
  },
  {
   "cell_type": "code",
   "execution_count": null,
   "metadata": {},
   "outputs": [],
   "source": [
    "g = dgl.graph(([0, 0, 1, 5], [1, 2, 2, 0])) # 6 nodes, 4 edges\n",
    "g\n",
    "g.ndata['x'] = th.ones(g.num_nodes(), 3)               # node feature of length 3\n",
    "g.edata['x'] = th.ones(g.num_edges(), dtype=th.int32)  # scalar integer feature\n",
    "g\n",
    "# different names can have different shapes\n",
    "g.ndata['y'] = th.randn(g.num_nodes(), 5)\n",
    "g.ndata['x'][1]                  # get node 1's feature\n",
    "g.edata['x'][th.tensor([0, 3])]  # get features of edge 0 and 3\n",
    "g.ndata['x'][0] = th.zeros(1, 3)"
   ]
  }
 ],
 "metadata": {
  "kernelspec": {
   "display_name": "Python 3",
   "language": "python",
   "name": "python3"
  },
  "language_info": {
   "codemirror_mode": {
    "name": "ipython",
    "version": 3
   },
   "file_extension": ".py",
   "mimetype": "text/x-python",
   "name": "python",
   "nbconvert_exporter": "python",
   "pygments_lexer": "ipython3",
   "version": "3.8.5"
  }
 },
 "nbformat": 4,
 "nbformat_minor": 4
}
