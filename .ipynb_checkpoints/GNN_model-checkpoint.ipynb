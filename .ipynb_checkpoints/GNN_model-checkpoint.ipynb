{
 "cells": [
  {
   "cell_type": "markdown",
   "metadata": {},
   "source": [
    "## 1. Environment setup"
   ]
  },
  {
   "cell_type": "code",
   "execution_count": 1,
   "metadata": {},
   "outputs": [
    {
     "name": "stderr",
     "output_type": "stream",
     "text": [
      "Using backend: pytorch\n"
     ]
    }
   ],
   "source": [
    "import os\n",
    "import dgl\n",
    "import torch\n",
    "import numpy as np\n",
    "import pandas as pd\n",
    "import networkx as nx\n",
    "import torch.nn as nn\n",
    "from tqdm.notebook import tqdm\n",
    "import torch.nn.functional as F\n",
    "from dgl.data import DGLDataset\n",
    "torch.cuda.set_device(0)  "
   ]
  },
  {
   "cell_type": "markdown",
   "metadata": {},
   "source": [
    "## 2. Setting up the Dataset"
   ]
  },
  {
   "cell_type": "code",
   "execution_count": 3,
   "metadata": {},
   "outputs": [
    {
     "ename": "AttributeError",
     "evalue": "'PolypharmacyDataset' object has no attribute 'to'",
     "output_type": "error",
     "traceback": [
      "\u001b[1;31m---------------------------------------------------------------------------\u001b[0m",
      "\u001b[1;31mAttributeError\u001b[0m                            Traceback (most recent call last)",
      "\u001b[1;32m<ipython-input-3-56c81709011c>\u001b[0m in \u001b[0;36m<module>\u001b[1;34m\u001b[0m\n\u001b[0;32m     85\u001b[0m \u001b[1;33m\u001b[0m\u001b[0m\n\u001b[0;32m     86\u001b[0m \u001b[0mdataset\u001b[0m \u001b[1;33m=\u001b[0m \u001b[0mPolypharmacyDataset\u001b[0m\u001b[1;33m(\u001b[0m\u001b[1;33m)\u001b[0m\u001b[1;33m\u001b[0m\u001b[1;33m\u001b[0m\u001b[0m\n\u001b[1;32m---> 87\u001b[1;33m \u001b[0mdataset\u001b[0m\u001b[1;33m.\u001b[0m\u001b[0mto\u001b[0m\u001b[1;33m(\u001b[0m\u001b[0mtorch\u001b[0m\u001b[1;33m.\u001b[0m\u001b[0mdevice\u001b[0m\u001b[1;33m(\u001b[0m\u001b[1;34m\"cuda:0\"\u001b[0m\u001b[1;33m)\u001b[0m\u001b[1;33m)\u001b[0m\u001b[1;33m\u001b[0m\u001b[1;33m\u001b[0m\u001b[0m\n\u001b[0m\u001b[0;32m     88\u001b[0m \u001b[0mgraph\u001b[0m\u001b[1;33m,\u001b[0m \u001b[0mlabel\u001b[0m \u001b[1;33m=\u001b[0m \u001b[0mdataset\u001b[0m\u001b[1;33m[\u001b[0m\u001b[1;36m0\u001b[0m\u001b[1;33m]\u001b[0m\u001b[1;33m\u001b[0m\u001b[1;33m\u001b[0m\u001b[0m\n\u001b[0;32m     89\u001b[0m \u001b[0mprint\u001b[0m\u001b[1;33m(\u001b[0m\u001b[0mgraph\u001b[0m\u001b[1;33m)\u001b[0m\u001b[1;33m\u001b[0m\u001b[1;33m\u001b[0m\u001b[0m\n",
      "\u001b[1;31mAttributeError\u001b[0m: 'PolypharmacyDataset' object has no attribute 'to'"
     ]
    }
   ],
   "source": [
    "class PolypharmacyDataset(DGLDataset):\n",
    "    def __init__(self):\n",
    "        super().__init__(name='polypharmacy')\n",
    "\n",
    "    def process(self):\n",
    "        edges = pd.read_csv('../data/GNN_edges-toy.csv')\n",
    "        properties = pd.read_csv('../data/GNN_properties-toy.csv')\n",
    "        drug_comb = pd.read_csv('../data/GNN-TWOSIDE-train-PSE-964-toy.csv', sep=',') # or 3347\n",
    "        features = pd.read_csv('../data/GNN-GSE_full_pkd_norm.csv', index_col = 'ProteinID', sep=',')\n",
    "        \n",
    "        self.graphs = []\n",
    "        self.labels = []\n",
    "        self.comb_graphs = []\n",
    "        self.comb_labels = []\n",
    "        \n",
    "        num_features = len(features.columns) # no. of PSEs\n",
    "        self.dim_nfeats = num_features\n",
    "        self.gclasses = num_features\n",
    "\n",
    "        # Create a graph for each graph ID from the edges table.\n",
    "        # First process the properties table into two dictionaries with graph IDs as keys.\n",
    "        # The label and number of nodes are values.\n",
    "        label_dict = {}\n",
    "        num_nodes_dict = {}\n",
    "        \n",
    "        for _, row in properties.iterrows():\n",
    "            label_dict[row['graph_id']] = row['label']\n",
    "            num_nodes_dict[row['graph_id']] = row['num_nodes']\n",
    "\n",
    "        # For the edges, first group the table by graph IDs.\n",
    "        edges_group = edges.groupby('graph_id')\n",
    "        \n",
    "        #Node features or PSEs dictionary\n",
    "        feature_dic = {i+1:torch.tensor(features.loc[i+1,]) for i in range(len(features))}\n",
    "        \n",
    "        # For each graph ID...\n",
    "        for graph_id in edges_group.groups:\n",
    "            # Find the edges as well as the number of nodes and its label.\n",
    "            edges_of_id = edges_group.get_group(graph_id)\n",
    "            src = edges_of_id['src'].to_numpy()\n",
    "            dst = edges_of_id['dst'].to_numpy()\n",
    "            num_nodes = num_nodes_dict[graph_id]\n",
    "            label = label_dict[graph_id]\n",
    "            \n",
    "            # Create a graph and add it to the list of graphs and labels.\n",
    "            g = dgl.graph((src, dst), num_nodes=num_nodes)\n",
    "            \n",
    "            # Need to convert proteinsIDs for feature assigning\n",
    "            prot_ids = edges_of_id['src_prot'].unique().tolist()\n",
    "            for prot in edges_of_id['dst_prot'].unique().tolist():\n",
    "                if prot not in prot_ids:\n",
    "                    prot_ids.append(prot)\n",
    "            convert_prot = {prot_ids.index(prot):prot for prot in prot_ids}\n",
    "            \n",
    "            #Adding features of each node\n",
    "            g.ndata['PSE'] = torch.zeros(g.num_nodes(), num_features)\n",
    "            for node in g.nodes().tolist():\n",
    "                g.ndata['PSE'][node] = feature_dic[convert_prot[node]]\n",
    "                \n",
    "            self.graphs.append(g)\n",
    "            self.labels.append(label)\n",
    "        \n",
    "        # conver drugid to their respective graph id\n",
    "        #drug2graph = {properties['label'][i]:i for i in range(len(properties))} \n",
    "        drug2graph = {self.labels[i]:i for i in range(len(self.labels))} \n",
    "\n",
    "        for i in range(len(drug_comb)):\n",
    "            row = drug_comb.loc[i]\n",
    "            g1 = self.graphs[drug2graph[row[0]]] # Drug1 graph\n",
    "            g2 = self.graphs[drug2graph[row[1]]] # Drug2 graph  \n",
    "            self.comb_graphs.append([g1,g2])\n",
    "            self.comb_labels.append(torch.tensor(row[2:])) # PSE values\n",
    "\n",
    "            \n",
    "        # Convert the label list to tensor for saving.\n",
    "        #self.comb_labels = torch.LongTensor(self.comb_labels)\n",
    "\n",
    "    def __getitem__(self, i):\n",
    "       # return self.comb_graphs[i], self.comb_labels[i]\n",
    "        return self.comb_graphs[i], self.comb_labels[i]\n",
    "\n",
    "    def __len__(self):\n",
    "        return len(self.comb_graphs)\n",
    "    \n",
    "\n",
    "dataset = PolypharmacyDataset()\n",
    "graph, label = dataset[0]\n",
    "print(graph)\n"
   ]
  },
  {
   "cell_type": "code",
   "execution_count": 4,
   "metadata": {},
   "outputs": [
    {
     "name": "stdout",
     "output_type": "stream",
     "text": [
      "[Graph(num_nodes=722, num_edges=38344,\n",
      "      ndata_schemes={'PSE': Scheme(shape=(964,), dtype=torch.float32)}\n",
      "      edata_schemes={}), Graph(num_nodes=4515, num_edges=799034,\n",
      "      ndata_schemes={'PSE': Scheme(shape=(964,), dtype=torch.float32)}\n",
      "      edata_schemes={})]\n"
     ]
    }
   ],
   "source": [
    "graph, label = dataset[0]\n",
    "print(graph)"
   ]
  },
  {
   "cell_type": "markdown",
   "metadata": {},
   "source": [
    "## 3. Data loading and batch"
   ]
  },
  {
   "cell_type": "code",
   "execution_count": 101,
   "metadata": {},
   "outputs": [],
   "source": [
    "from dgl.dataloading import GraphDataLoader\n",
    "from torch.utils.data.sampler import SubsetRandomSampler\n",
    "\n",
    "num_examples = len(dataset)\n",
    "num_train = int(num_examples * 0.8)\n",
    "\n",
    "train_sampler = SubsetRandomSampler(torch.arange(num_train))\n",
    "test_sampler = SubsetRandomSampler(torch.arange(num_train, num_examples))\n",
    "\n",
    "\n",
    "train_dataloader = GraphDataLoader(\n",
    "    dataset, sampler=train_sampler, batch_size=5, drop_last=False)\n",
    "test_dataloader = GraphDataLoader(\n",
    "    dataset, sampler=test_sampler, batch_size=5, drop_last=False)"
   ]
  },
  {
   "cell_type": "code",
   "execution_count": 6,
   "metadata": {},
   "outputs": [
    {
     "data": {
      "text/plain": [
       "18"
      ]
     },
     "execution_count": 6,
     "metadata": {},
     "output_type": "execute_result"
    }
   ],
   "source": [
    "len(dataset)"
   ]
  },
  {
   "cell_type": "code",
   "execution_count": 76,
   "metadata": {},
   "outputs": [
    {
     "name": "stdout",
     "output_type": "stream",
     "text": [
      "Graph(num_nodes=15641, num_edges=3666126,\n",
      "      ndata_schemes={'PSE': Scheme(shape=(964,), dtype=torch.float32)}\n",
      "      edata_schemes={})\n"
     ]
    }
   ],
   "source": [
    "it = iter(train_dataloader)\n",
    "batch = next(it)\n",
    "print(batch[0][0])"
   ]
  },
  {
   "cell_type": "code",
   "execution_count": 8,
   "metadata": {
    "scrolled": true
   },
   "outputs": [
    {
     "name": "stdout",
     "output_type": "stream",
     "text": [
      "Number of nodes for each graph1 element in the batch: tensor([7585, 5656,  853,  722,  694])\n",
      "Number of nodes for each graph2 element in the batch: tensor([ 722,  846, 2756, 4515,  846])\n",
      "Number of edges for each graph1 element in the batch: tensor([2270116, 1269352,   44876,   38344,   36906])\n",
      "Number of edges for each graph2 element in the batch: tensor([ 38344,  44316, 292614, 799034,  44316])\n",
      "The original graphs1 in the minibatch:\n",
      "[Graph(num_nodes=7585, num_edges=2270116,\n",
      "      ndata_schemes={'PSE': Scheme(shape=(964,), dtype=torch.float32)}\n",
      "      edata_schemes={}), Graph(num_nodes=5656, num_edges=1269352,\n",
      "      ndata_schemes={'PSE': Scheme(shape=(964,), dtype=torch.float32)}\n",
      "      edata_schemes={}), Graph(num_nodes=853, num_edges=44876,\n",
      "      ndata_schemes={'PSE': Scheme(shape=(964,), dtype=torch.float32)}\n",
      "      edata_schemes={}), Graph(num_nodes=722, num_edges=38344,\n",
      "      ndata_schemes={'PSE': Scheme(shape=(964,), dtype=torch.float32)}\n",
      "      edata_schemes={}), Graph(num_nodes=694, num_edges=36906,\n",
      "      ndata_schemes={'PSE': Scheme(shape=(964,), dtype=torch.float32)}\n",
      "      edata_schemes={})]\n"
     ]
    }
   ],
   "source": [
    "batched_graph, labels = batch\n",
    "print('Number of nodes for each graph1 element in the batch:', batched_graph[0].batch_num_nodes())\n",
    "print('Number of nodes for each graph2 element in the batch:', batched_graph[1].batch_num_nodes())\n",
    "print('Number of edges for each graph1 element in the batch:', batched_graph[0].batch_num_edges())\n",
    "print('Number of edges for each graph2 element in the batch:', batched_graph[1].batch_num_edges())\n",
    "\n",
    "# Recover the original graph elements from the minibatch\n",
    "graphs = dgl.unbatch(batched_graph[0])\n",
    "print('The original graphs1 in the minibatch:')\n",
    "print(graphs)"
   ]
  },
  {
   "cell_type": "markdown",
   "metadata": {},
   "source": [
    "## 4. GNN Model: Siamese GCN"
   ]
  },
  {
   "cell_type": "code",
   "execution_count": 9,
   "metadata": {},
   "outputs": [],
   "source": [
    "from dgl.nn import GraphConv\n",
    "\n",
    "class GCN(nn.Module):\n",
    "    def __init__(self, in_feats, h_feats, num_classes):\n",
    "        super(GCN, self).__init__()\n",
    "        self.conv1 = GraphConv(in_feats, h_feats)\n",
    "        self.conv2 = GraphConv(h_feats, num_classes)\n",
    "        \n",
    "    def forward(self, g, in_feat):\n",
    "        h = self.conv1(g, in_feat)\n",
    "        h = F.relu(h)\n",
    "        h = self.conv2(g, h)\n",
    "        g.ndata['h'] = h\n",
    "        return dgl.mean_nodes(g, 'h')\n"
   ]
  },
  {
   "cell_type": "markdown",
   "metadata": {},
   "source": [
    "## 5. Training"
   ]
  },
  {
   "cell_type": "code",
   "execution_count": 104,
   "metadata": {},
   "outputs": [
    {
     "name": "stdout",
     "output_type": "stream",
     "text": [
      "epoch 0\n",
      "epoch 1\n",
      "epoch 2\n",
      "epoch 3\n",
      "epoch 4\n",
      "Test accuracy: 72.8734439834025\n",
      "Wall time: 1min 10s\n"
     ]
    }
   ],
   "source": [
    "%%time\n",
    "# Create the model with given dimensions\n",
    "model = GCN(dataset.dim_nfeats, 450, dataset.gclasses)\n",
    "optimizer = torch.optim.Adam(model.parameters(), lr=0.01)\n",
    "\n",
    "for epoch in range(5):\n",
    "    print('epoch',epoch+1)\n",
    "    for batched_graph, labels in train_dataloader:\n",
    "        g1 = batched_graph[0]\n",
    "        g2 = batched_graph[1]\n",
    "        pred1 = model(g1, g1.ndata['PSE'].float())\n",
    "        pred2 = model(g2, g2.ndata['PSE'].float())\n",
    "        pred = F.relu((pred1+pred2)/2)\n",
    "        loss = F.mse_loss(pred.float(), labels.float())\n",
    "        optimizer.zero_grad()\n",
    "        loss.backward()\n",
    "        optimizer.step()\n",
    "        \n",
    "    \n",
    "num_correct = 0\n",
    "num_tests = 0\n",
    "for batched_graph, labels in test_dataloader:\n",
    "    pred1 = model(batched_graph[0], batched_graph[0].ndata['PSE'].float())\n",
    "    pred2 = model(batched_graph[1], batched_graph[1].ndata['PSE'].float())\n",
    "    pred = F.relu((pred1+pred2)/2)\n",
    "    diff = labels - pred\n",
    "    #acc = diff.mean()\n",
    "    #num_correct += (pred.argmax(1) == labels).sum().item()\n",
    "    #num_tests += len(labels)\n",
    "    diff = diff.tolist()\n",
    "    y = 0\n",
    "    for x in diff:\n",
    "        y += x.count(0)\n",
    "    acc = (y*100)/(4*964)\n",
    "    print('Test accuracy:', acc)"
   ]
  },
  {
   "cell_type": "code",
   "execution_count": 68,
   "metadata": {},
   "outputs": [
    {
     "data": {
      "text/plain": [
       "593"
      ]
     },
     "execution_count": 68,
     "metadata": {},
     "output_type": "execute_result"
    }
   ],
   "source": [
    "1 epoch -> 53, 64, 60, 68, 57 ~ 60\n",
    "2 epoch ->  73 ~ \n",
    "5 epoch ->  86 ~ \n",
    "10 epoch ->  91 ~ "
   ]
  },
  {
   "cell_type": "code",
   "execution_count": 105,
   "metadata": {},
   "outputs": [
    {
     "name": "stdout",
     "output_type": "stream",
     "text": [
      "1 : 1\n",
      "2 : 1\n",
      "3 : 1\n",
      "5 : 1\n",
      "8 : 1\n",
      "17 : 1\n",
      "23 : 1\n",
      "26 : 1\n",
      "45 : 1\n",
      "48 : 1\n",
      "49 : 1\n",
      "54 : 1\n",
      "58 : 1\n",
      "61 : 1\n",
      "71 : 1\n",
      "79 : 1\n",
      "89 : 1\n",
      "103 : 1\n",
      "104 : 1\n",
      "106 : 1\n",
      "113 : 1\n",
      "116 : 1\n",
      "118 : 1\n",
      "126 : 1\n",
      "130 : 1\n",
      "131 : 1\n",
      "132 : 1\n",
      "142 : 1\n",
      "148 : 1\n",
      "154 : 1\n",
      "158 : 1\n",
      "177 : 1\n",
      "183 : 1\n",
      "212 : 1\n",
      "215 : 1\n",
      "246 : 1\n",
      "258 : 1\n",
      "265 : 1\n",
      "295 : 1\n",
      "321 : 1\n",
      "340 : 1\n",
      "343 : 1\n",
      "345 : 1\n",
      "366 : 1\n",
      "372 : 1\n",
      "391 : 1\n",
      "435 : 1\n",
      "461 : 1\n",
      "489 : 1\n",
      "508 : 1\n",
      "516 : 1\n",
      "518 : 1\n",
      "535 : 1\n",
      "536 : 1\n",
      "537 : 1\n",
      "611 : 1\n",
      "613 : 1\n",
      "642 : 1\n",
      "660 : 1\n",
      "763 : 1\n",
      "764 : 1\n"
     ]
    }
   ],
   "source": [
    "pos = []\n",
    "for i, label in enumerate(labels[0].tolist()):\n",
    "    if label != 0:\n",
    "        pos.append(i)\n",
    "        print(i,':',label)"
   ]
  },
  {
   "cell_type": "code",
   "execution_count": 110,
   "metadata": {},
   "outputs": [
    {
     "name": "stdout",
     "output_type": "stream",
     "text": [
      "1 : 1.1869322061538696\n",
      "3 : 0.5132281184196472\n",
      "5 : 0.8081663846969604\n",
      "8 : 0.6965665221214294\n",
      "14 : 0.5136588215827942\n",
      "15 : 0.6814299821853638\n",
      "19 : 0.6229294538497925\n",
      "20 : 0.889102041721344\n",
      "21 : 0.8402390480041504\n",
      "24 : 0.774488091468811\n",
      "31 : 0.5501083135604858\n",
      "35 : 0.678189754486084\n",
      "40 : 0.5777214169502258\n",
      "54 : 0.8008038997650146\n",
      "57 : 0.5739651322364807\n",
      "58 : 0.6112098693847656\n",
      "70 : 0.5463200807571411\n",
      "90 : 0.654937744140625\n",
      "99 : 0.6231285333633423\n",
      "103 : 1.0847125053405762\n",
      "106 : 0.6038809418678284\n",
      "110 : 0.6283327341079712\n",
      "116 : 0.5954090356826782\n",
      "118 : 0.6291906237602234\n",
      "128 : 0.7105851173400879\n",
      "129 : 0.5435681343078613\n",
      "131 : 0.5831461548805237\n",
      "132 : 0.7943530082702637\n",
      "136 : 0.6944834589958191\n",
      "144 : 0.5415425896644592\n",
      "154 : 0.5906703472137451\n",
      "161 : 0.5148847103118896\n",
      "174 : 0.5993022322654724\n",
      "178 : 0.5105489492416382\n",
      "183 : 0.9503158926963806\n",
      "186 : 0.5618095397949219\n",
      "194 : 0.5665977001190186\n",
      "206 : 0.8024017810821533\n",
      "212 : 0.5391796827316284\n",
      "213 : 0.5940852761268616\n",
      "223 : 0.6121821403503418\n",
      "231 : 0.5835189819335938\n",
      "233 : 0.7916021347045898\n",
      "234 : 0.9629297256469727\n",
      "236 : 0.5022263526916504\n",
      "245 : 0.5558696985244751\n",
      "249 : 0.8231046795845032\n",
      "258 : 0.7049108743667603\n",
      "265 : 0.5925185680389404\n",
      "272 : 0.632705569267273\n",
      "281 : 0.6025859713554382\n",
      "293 : 0.9228202104568481\n",
      "295 : 0.9281576871871948\n",
      "300 : 0.5963373184204102\n",
      "321 : 0.5776466131210327\n",
      "330 : 0.5908252000808716\n",
      "335 : 0.5442055463790894\n",
      "350 : 0.7195086479187012\n",
      "366 : 0.5254035592079163\n",
      "370 : 0.5722125768661499\n",
      "377 : 0.8068916201591492\n",
      "423 : 0.5709128379821777\n",
      "434 : 0.564049482345581\n",
      "499 : 0.5358994007110596\n",
      "507 : 0.5092599987983704\n",
      "516 : 0.5210753679275513\n",
      "518 : 0.6321033239364624\n",
      "519 : 0.5129411816596985\n",
      "523 : 0.6059728860855103\n",
      "531 : 0.522961437702179\n",
      "537 : 0.7156251668930054\n",
      "596 : 0.545070469379425\n",
      "611 : 0.5797109007835388\n",
      "622 : 0.5304369926452637\n",
      "660 : 0.5771842002868652\n",
      "663 : 0.5076996684074402\n",
      "708 : 0.5627123117446899\n",
      "727 : 0.5307851433753967\n",
      "760 : 0.5066969394683838\n",
      "763 : 0.61042320728302\n",
      "846 : 0.5305042266845703\n",
      "858 : 0.5132828950881958\n",
      "884 : 0.5047189593315125\n",
      "960 : 0.5147255063056946\n"
     ]
    }
   ],
   "source": [
    "pos2 = []\n",
    "for i, predic in enumerate(pred[0].tolist()):\n",
    "    if predic > 0.5:\n",
    "        pos2.append(i)\n",
    "        print(i,':',predic)"
   ]
  },
  {
   "cell_type": "code",
   "execution_count": 111,
   "metadata": {},
   "outputs": [
    {
     "name": "stdout",
     "output_type": "stream",
     "text": [
      "61 84\n"
     ]
    }
   ],
   "source": [
    "print(len(pos), len(pos2))"
   ]
  },
  {
   "cell_type": "code",
   "execution_count": null,
   "metadata": {},
   "outputs": [],
   "source": []
  },
  {
   "cell_type": "markdown",
   "metadata": {},
   "source": [
    "### ==================== Testing ===================="
   ]
  },
  {
   "cell_type": "code",
   "execution_count": 123,
   "metadata": {},
   "outputs": [],
   "source": [
    "edges = pd.read_csv('../data/GNN_edges-toy.csv')\n",
    "properties = pd.read_csv('../data/GNN_properties-toy.csv')\n",
    "features = pd.read_csv('../data/GNN-GSE_full_pkd_norm.csv', index_col = 'ProteinID', sep=',')"
   ]
  },
  {
   "cell_type": "code",
   "execution_count": 130,
   "metadata": {},
   "outputs": [
    {
     "data": {
      "text/plain": [
       "19555"
      ]
     },
     "execution_count": 130,
     "metadata": {},
     "output_type": "execute_result"
    }
   ],
   "source": [
    "feature_dic = {i+1:torch.tensor(features.loc[i+1,]) for i in range(len(features))}\n",
    "len(feature_dic)"
   ]
  },
  {
   "cell_type": "code",
   "execution_count": 111,
   "metadata": {},
   "outputs": [
    {
     "data": {
      "text/html": [
       "<div>\n",
       "<style scoped>\n",
       "    .dataframe tbody tr th:only-of-type {\n",
       "        vertical-align: middle;\n",
       "    }\n",
       "\n",
       "    .dataframe tbody tr th {\n",
       "        vertical-align: top;\n",
       "    }\n",
       "\n",
       "    .dataframe thead th {\n",
       "        text-align: right;\n",
       "    }\n",
       "</style>\n",
       "<table border=\"1\" class=\"dataframe\">\n",
       "  <thead>\n",
       "    <tr style=\"text-align: right;\">\n",
       "      <th></th>\n",
       "      <th>graph_id</th>\n",
       "      <th>label</th>\n",
       "      <th>num_nodes</th>\n",
       "    </tr>\n",
       "  </thead>\n",
       "  <tbody>\n",
       "    <tr>\n",
       "      <th>0</th>\n",
       "      <td>1</td>\n",
       "      <td>85</td>\n",
       "      <td>722</td>\n",
       "    </tr>\n",
       "    <tr>\n",
       "      <th>1</th>\n",
       "      <td>2</td>\n",
       "      <td>119</td>\n",
       "      <td>719</td>\n",
       "    </tr>\n",
       "    <tr>\n",
       "      <th>2</th>\n",
       "      <td>3</td>\n",
       "      <td>137</td>\n",
       "      <td>935</td>\n",
       "    </tr>\n",
       "    <tr>\n",
       "      <th>3</th>\n",
       "      <td>4</td>\n",
       "      <td>143</td>\n",
       "      <td>5656</td>\n",
       "    </tr>\n",
       "    <tr>\n",
       "      <th>4</th>\n",
       "      <td>5</td>\n",
       "      <td>146</td>\n",
       "      <td>5376</td>\n",
       "    </tr>\n",
       "    <tr>\n",
       "      <th>5</th>\n",
       "      <td>6</td>\n",
       "      <td>158</td>\n",
       "      <td>2600</td>\n",
       "    </tr>\n",
       "    <tr>\n",
       "      <th>6</th>\n",
       "      <td>7</td>\n",
       "      <td>159</td>\n",
       "      <td>10469</td>\n",
       "    </tr>\n",
       "    <tr>\n",
       "      <th>7</th>\n",
       "      <td>8</td>\n",
       "      <td>160</td>\n",
       "      <td>6921</td>\n",
       "    </tr>\n",
       "    <tr>\n",
       "      <th>8</th>\n",
       "      <td>9</td>\n",
       "      <td>175</td>\n",
       "      <td>1158</td>\n",
       "    </tr>\n",
       "    <tr>\n",
       "      <th>9</th>\n",
       "      <td>10</td>\n",
       "      <td>187</td>\n",
       "      <td>6830</td>\n",
       "    </tr>\n",
       "  </tbody>\n",
       "</table>\n",
       "</div>"
      ],
      "text/plain": [
       "   graph_id  label  num_nodes\n",
       "0         1     85        722\n",
       "1         2    119        719\n",
       "2         3    137        935\n",
       "3         4    143       5656\n",
       "4         5    146       5376\n",
       "5         6    158       2600\n",
       "6         7    159      10469\n",
       "7         8    160       6921\n",
       "8         9    175       1158\n",
       "9        10    187       6830"
      ]
     },
     "execution_count": 111,
     "metadata": {},
     "output_type": "execute_result"
    }
   ],
   "source": [
    "properties"
   ]
  },
  {
   "cell_type": "code",
   "execution_count": 124,
   "metadata": {},
   "outputs": [
    {
     "data": {
      "text/html": [
       "<div>\n",
       "<style scoped>\n",
       "    .dataframe tbody tr th:only-of-type {\n",
       "        vertical-align: middle;\n",
       "    }\n",
       "\n",
       "    .dataframe tbody tr th {\n",
       "        vertical-align: top;\n",
       "    }\n",
       "\n",
       "    .dataframe thead th {\n",
       "        text-align: right;\n",
       "    }\n",
       "</style>\n",
       "<table border=\"1\" class=\"dataframe\">\n",
       "  <thead>\n",
       "    <tr style=\"text-align: right;\">\n",
       "      <th></th>\n",
       "      <th>graph_id</th>\n",
       "      <th>src</th>\n",
       "      <th>dst</th>\n",
       "      <th>src_prot</th>\n",
       "      <th>dst_prot</th>\n",
       "    </tr>\n",
       "  </thead>\n",
       "  <tbody>\n",
       "    <tr>\n",
       "      <th>76538</th>\n",
       "      <td>3</td>\n",
       "      <td>0</td>\n",
       "      <td>172</td>\n",
       "      <td>32</td>\n",
       "      <td>4621</td>\n",
       "    </tr>\n",
       "    <tr>\n",
       "      <th>76539</th>\n",
       "      <td>3</td>\n",
       "      <td>0</td>\n",
       "      <td>50</td>\n",
       "      <td>32</td>\n",
       "      <td>1027</td>\n",
       "    </tr>\n",
       "    <tr>\n",
       "      <th>76540</th>\n",
       "      <td>3</td>\n",
       "      <td>0</td>\n",
       "      <td>54</td>\n",
       "      <td>32</td>\n",
       "      <td>1129</td>\n",
       "    </tr>\n",
       "    <tr>\n",
       "      <th>76541</th>\n",
       "      <td>3</td>\n",
       "      <td>0</td>\n",
       "      <td>828</td>\n",
       "      <td>32</td>\n",
       "      <td>18028</td>\n",
       "    </tr>\n",
       "    <tr>\n",
       "      <th>76542</th>\n",
       "      <td>3</td>\n",
       "      <td>0</td>\n",
       "      <td>717</td>\n",
       "      <td>32</td>\n",
       "      <td>16363</td>\n",
       "    </tr>\n",
       "    <tr>\n",
       "      <th>...</th>\n",
       "      <td>...</td>\n",
       "      <td>...</td>\n",
       "      <td>...</td>\n",
       "      <td>...</td>\n",
       "      <td>...</td>\n",
       "    </tr>\n",
       "    <tr>\n",
       "      <th>126803</th>\n",
       "      <td>3</td>\n",
       "      <td>933</td>\n",
       "      <td>128</td>\n",
       "      <td>19514</td>\n",
       "      <td>3408</td>\n",
       "    </tr>\n",
       "    <tr>\n",
       "      <th>126804</th>\n",
       "      <td>3</td>\n",
       "      <td>933</td>\n",
       "      <td>679</td>\n",
       "      <td>19514</td>\n",
       "      <td>15709</td>\n",
       "    </tr>\n",
       "    <tr>\n",
       "      <th>126805</th>\n",
       "      <td>3</td>\n",
       "      <td>933</td>\n",
       "      <td>664</td>\n",
       "      <td>19514</td>\n",
       "      <td>15442</td>\n",
       "    </tr>\n",
       "    <tr>\n",
       "      <th>126806</th>\n",
       "      <td>3</td>\n",
       "      <td>934</td>\n",
       "      <td>420</td>\n",
       "      <td>19530</td>\n",
       "      <td>10008</td>\n",
       "    </tr>\n",
       "    <tr>\n",
       "      <th>126807</th>\n",
       "      <td>3</td>\n",
       "      <td>934</td>\n",
       "      <td>606</td>\n",
       "      <td>19530</td>\n",
       "      <td>14336</td>\n",
       "    </tr>\n",
       "  </tbody>\n",
       "</table>\n",
       "<p>50270 rows × 5 columns</p>\n",
       "</div>"
      ],
      "text/plain": [
       "        graph_id  src  dst  src_prot  dst_prot\n",
       "76538          3    0  172        32      4621\n",
       "76539          3    0   50        32      1027\n",
       "76540          3    0   54        32      1129\n",
       "76541          3    0  828        32     18028\n",
       "76542          3    0  717        32     16363\n",
       "...          ...  ...  ...       ...       ...\n",
       "126803         3  933  128     19514      3408\n",
       "126804         3  933  679     19514     15709\n",
       "126805         3  933  664     19514     15442\n",
       "126806         3  934  420     19530     10008\n",
       "126807         3  934  606     19530     14336\n",
       "\n",
       "[50270 rows x 5 columns]"
      ]
     },
     "execution_count": 124,
     "metadata": {},
     "output_type": "execute_result"
    }
   ],
   "source": [
    "graph = edges.loc[edges['graph_id']==3]\n",
    "src = graph['src'].to_numpy()\n",
    "dst = graph['dst'].to_numpy()\n",
    "graph"
   ]
  },
  {
   "cell_type": "code",
   "execution_count": 125,
   "metadata": {},
   "outputs": [
    {
     "data": {
      "text/plain": [
       "Graph(num_nodes=935, num_edges=50270,\n",
       "      ndata_schemes={}\n",
       "      edata_schemes={})"
      ]
     },
     "execution_count": 125,
     "metadata": {},
     "output_type": "execute_result"
    }
   ],
   "source": [
    "g = dgl.graph((src, dst), num_nodes=935)\n",
    "g"
   ]
  },
  {
   "cell_type": "code",
   "execution_count": 137,
   "metadata": {},
   "outputs": [
    {
     "data": {
      "text/html": [
       "<div>\n",
       "<style scoped>\n",
       "    .dataframe tbody tr th:only-of-type {\n",
       "        vertical-align: middle;\n",
       "    }\n",
       "\n",
       "    .dataframe tbody tr th {\n",
       "        vertical-align: top;\n",
       "    }\n",
       "\n",
       "    .dataframe thead th {\n",
       "        text-align: right;\n",
       "    }\n",
       "</style>\n",
       "<table border=\"1\" class=\"dataframe\">\n",
       "  <thead>\n",
       "    <tr style=\"text-align: right;\">\n",
       "      <th></th>\n",
       "      <th>graph_id</th>\n",
       "      <th>src</th>\n",
       "      <th>dst</th>\n",
       "      <th>src_prot</th>\n",
       "      <th>dst_prot</th>\n",
       "    </tr>\n",
       "  </thead>\n",
       "  <tbody>\n",
       "    <tr>\n",
       "      <th>76538</th>\n",
       "      <td>3</td>\n",
       "      <td>0</td>\n",
       "      <td>172</td>\n",
       "      <td>32</td>\n",
       "      <td>4621</td>\n",
       "    </tr>\n",
       "    <tr>\n",
       "      <th>76539</th>\n",
       "      <td>3</td>\n",
       "      <td>0</td>\n",
       "      <td>50</td>\n",
       "      <td>32</td>\n",
       "      <td>1027</td>\n",
       "    </tr>\n",
       "    <tr>\n",
       "      <th>76540</th>\n",
       "      <td>3</td>\n",
       "      <td>0</td>\n",
       "      <td>54</td>\n",
       "      <td>32</td>\n",
       "      <td>1129</td>\n",
       "    </tr>\n",
       "    <tr>\n",
       "      <th>76541</th>\n",
       "      <td>3</td>\n",
       "      <td>0</td>\n",
       "      <td>828</td>\n",
       "      <td>32</td>\n",
       "      <td>18028</td>\n",
       "    </tr>\n",
       "    <tr>\n",
       "      <th>76542</th>\n",
       "      <td>3</td>\n",
       "      <td>0</td>\n",
       "      <td>717</td>\n",
       "      <td>32</td>\n",
       "      <td>16363</td>\n",
       "    </tr>\n",
       "    <tr>\n",
       "      <th>...</th>\n",
       "      <td>...</td>\n",
       "      <td>...</td>\n",
       "      <td>...</td>\n",
       "      <td>...</td>\n",
       "      <td>...</td>\n",
       "    </tr>\n",
       "    <tr>\n",
       "      <th>126803</th>\n",
       "      <td>3</td>\n",
       "      <td>933</td>\n",
       "      <td>128</td>\n",
       "      <td>19514</td>\n",
       "      <td>3408</td>\n",
       "    </tr>\n",
       "    <tr>\n",
       "      <th>126804</th>\n",
       "      <td>3</td>\n",
       "      <td>933</td>\n",
       "      <td>679</td>\n",
       "      <td>19514</td>\n",
       "      <td>15709</td>\n",
       "    </tr>\n",
       "    <tr>\n",
       "      <th>126805</th>\n",
       "      <td>3</td>\n",
       "      <td>933</td>\n",
       "      <td>664</td>\n",
       "      <td>19514</td>\n",
       "      <td>15442</td>\n",
       "    </tr>\n",
       "    <tr>\n",
       "      <th>126806</th>\n",
       "      <td>3</td>\n",
       "      <td>934</td>\n",
       "      <td>420</td>\n",
       "      <td>19530</td>\n",
       "      <td>10008</td>\n",
       "    </tr>\n",
       "    <tr>\n",
       "      <th>126807</th>\n",
       "      <td>3</td>\n",
       "      <td>934</td>\n",
       "      <td>606</td>\n",
       "      <td>19530</td>\n",
       "      <td>14336</td>\n",
       "    </tr>\n",
       "  </tbody>\n",
       "</table>\n",
       "<p>50270 rows × 5 columns</p>\n",
       "</div>"
      ],
      "text/plain": [
       "        graph_id  src  dst  src_prot  dst_prot\n",
       "76538          3    0  172        32      4621\n",
       "76539          3    0   50        32      1027\n",
       "76540          3    0   54        32      1129\n",
       "76541          3    0  828        32     18028\n",
       "76542          3    0  717        32     16363\n",
       "...          ...  ...  ...       ...       ...\n",
       "126803         3  933  128     19514      3408\n",
       "126804         3  933  679     19514     15709\n",
       "126805         3  933  664     19514     15442\n",
       "126806         3  934  420     19530     10008\n",
       "126807         3  934  606     19530     14336\n",
       "\n",
       "[50270 rows x 5 columns]"
      ]
     },
     "execution_count": 137,
     "metadata": {},
     "output_type": "execute_result"
    }
   ],
   "source": [
    "edges_group = edges.groupby('graph_id')\n",
    "edges_of_id = edges_group.get_group(3)\n",
    "edges_of_id"
   ]
  },
  {
   "cell_type": "code",
   "execution_count": 142,
   "metadata": {},
   "outputs": [
    {
     "data": {
      "text/plain": [
       "Graph(num_nodes=935, num_edges=50270,\n",
       "      ndata_schemes={'PSE': Scheme(shape=(964,), dtype=torch.float32)}\n",
       "      edata_schemes={})"
      ]
     },
     "execution_count": 142,
     "metadata": {},
     "output_type": "execute_result"
    }
   ],
   "source": [
    "prot_ids = edges_of_id['src_prot'].unique().tolist()\n",
    "convert_prot = {prot_ids.index(prot):prot for prot in prot_ids}\n",
    "g.ndata['PSE'] = torch.zeros(g.num_nodes(), 964)\n",
    "for node in g.nodes().tolist():\n",
    "    g.ndata['PSE'][node] = feature_dic[convert_prot[node]]\n",
    "    \n",
    "g"
   ]
  },
  {
   "cell_type": "code",
   "execution_count": 150,
   "metadata": {},
   "outputs": [
    {
     "data": {
      "text/plain": [
       "Arthralgia               0.781995\n",
       "Diarrhoea                0.782882\n",
       "Headache                 0.784467\n",
       "Vomiting                 0.783447\n",
       "Dyspepsia                0.780225\n",
       "                           ...   \n",
       "Hypertensive crisis      0.773061\n",
       "Pneumonia bacterial      0.712454\n",
       "Hepatocellular injury    0.782869\n",
       "Shock haemorrhagic       0.737688\n",
       "Haemorrhagic stroke      0.785618\n",
       "Name: 3291, Length: 964, dtype: float64"
      ]
     },
     "execution_count": 150,
     "metadata": {},
     "output_type": "execute_result"
    }
   ],
   "source": [
    "features.loc[3291]"
   ]
  },
  {
   "cell_type": "code",
   "execution_count": 2,
   "metadata": {},
   "outputs": [],
   "source": [
    "g.ndata['PSE'][127]"
   ]
  },
  {
   "cell_type": "code",
   "execution_count": 3,
   "metadata": {},
   "outputs": [],
   "source": [
    "convert_prot"
   ]
  },
  {
   "cell_type": "code",
   "execution_count": null,
   "metadata": {},
   "outputs": [],
   "source": []
  },
  {
   "cell_type": "code",
   "execution_count": null,
   "metadata": {},
   "outputs": [],
   "source": [
    "from dgl.nn import GraphConv\n",
    "\n",
    "class GCN(nn.Module):\n",
    "    def __init__(self, in_feats, h_feats, num_classes):\n",
    "        super(GCN, self).__init__()\n",
    "        self.conv1 = GraphConv(in_feats, h_feats)\n",
    "        self.conv2 = GraphConv(h_feats, num_classes)\n",
    "        self.in_feats = in_feats\n",
    "        self.num_classes=num_classes\n",
    "        \n",
    "    def forward(self, g):\n",
    "        h = self.conv1(g, self.in_feats)\n",
    "        h = F.relu(h)\n",
    "        h = self.conv2(g, h)\n",
    "        g.ndata['h'] = h\n",
    "        return dgl.mean_nodes(g, 'h')\n",
    "    '''\n",
    "    def forward(self, g):\n",
    "        out1 = self.forward_one(g[0])\n",
    "        out2 = self.forward_one(g[1])\n",
    "        out = F.relu((out1+out2)/2)\n",
    "        #out = self.out(mean)\n",
    "        return out\n",
    "\n",
    "# for test\n",
    "#if __name__ == '__main__':\n",
    " #   net = GCN()\n",
    " #   print(net)\n",
    " #   print(list(net.parameters()))\n",
    "    def forward_one(self, g):\n",
    "        h = self.conv1(g, self.in_feat)\n",
    "        h = F.relu(h)\n",
    "        h = self.conv2(h, self.n_classes)\n",
    "        h = F.relu(h)\n",
    "        g.ndata['h'] = h\n",
    "        return dgl.mean_nodes(g, 'h')\n",
    "        '''"
   ]
  },
  {
   "cell_type": "code",
   "execution_count": null,
   "metadata": {},
   "outputs": [],
   "source": []
  },
  {
   "cell_type": "code",
   "execution_count": null,
   "metadata": {},
   "outputs": [],
   "source": [
    "g = dgl.graph(([0, 0, 1, 5], [1, 2, 2, 0])) # 6 nodes, 4 edges\n",
    "g\n",
    "g.ndata['x'] = th.ones(g.num_nodes(), 3)               # node feature of length 3\n",
    "g.edata['x'] = th.ones(g.num_edges(), dtype=th.int32)  # scalar integer feature\n",
    "g\n",
    "# different names can have different shapes\n",
    "g.ndata['y'] = th.randn(g.num_nodes(), 5)\n",
    "g.ndata['x'][1]                  # get node 1's feature\n",
    "g.edata['x'][th.tensor([0, 3])]  # get features of edge 0 and 3\n",
    "g.ndata['x'][0] = th.zeros(1, 3)"
   ]
  }
 ],
 "metadata": {
  "kernelspec": {
   "display_name": "Python 3",
   "language": "python",
   "name": "python3"
  },
  "language_info": {
   "codemirror_mode": {
    "name": "ipython",
    "version": 3
   },
   "file_extension": ".py",
   "mimetype": "text/x-python",
   "name": "python",
   "nbconvert_exporter": "python",
   "pygments_lexer": "ipython3",
   "version": "3.8.5"
  }
 },
 "nbformat": 4,
 "nbformat_minor": 4
}
